{
 "cells": [
  {
   "cell_type": "code",
   "execution_count": 1,
   "id": "88219685",
   "metadata": {},
   "outputs": [],
   "source": [
    "import joblib\n",
    "from sklearn.metrics import mean_absolute_error, mean_squared_error, r2_score\n",
    "import numpy as np "
   ]
  },
  {
   "cell_type": "code",
   "execution_count": 5,
   "id": "95851c2b",
   "metadata": {},
   "outputs": [],
   "source": [
    "model = joblib.load('../models/ev_pricepred_model.pkl')\n",
    "x_test, y_test = joblib.load('../src/test_data.pkl')\n",
    "\n",
    "y_pred = model.predict(x_test)"
   ]
  },
  {
   "cell_type": "code",
   "execution_count": 6,
   "id": "498d6a7e",
   "metadata": {},
   "outputs": [
    {
     "name": "stdout",
     "output_type": "stream",
     "text": [
      "Model Metrics: \n",
      "\n",
      "mean_absolute_error:  6719.062580645162\n",
      "mean_square_error:  113437589.23394836\n",
      "r2_score 0.8810625358851204\n"
     ]
    }
   ],
   "source": [
    "print(\"Model Metrics: \\n\")\n",
    "print(\"mean_absolute_error: \", mean_absolute_error(y_test, y_pred))\n",
    "print(\"mean_square_error: \", mean_squared_error(y_test, y_pred))\n",
    "print(\"r2_score\", r2_score(y_test, y_pred))"
   ]
  }
 ],
 "metadata": {
  "kernelspec": {
   "display_name": "Python 3",
   "language": "python",
   "name": "python3"
  },
  "language_info": {
   "codemirror_mode": {
    "name": "ipython",
    "version": 3
   },
   "file_extension": ".py",
   "mimetype": "text/x-python",
   "name": "python",
   "nbconvert_exporter": "python",
   "pygments_lexer": "ipython3",
   "version": "3.13.7"
  }
 },
 "nbformat": 4,
 "nbformat_minor": 5
}
